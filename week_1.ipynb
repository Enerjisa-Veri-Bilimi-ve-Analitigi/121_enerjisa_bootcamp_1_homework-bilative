{
 "cells": [
  {
   "cell_type": "code",
   "execution_count": 1,
   "source": [
    "import pandas as pd\r\n",
    "import numpy as np"
   ],
   "outputs": [],
   "metadata": {}
  },
  {
   "cell_type": "code",
   "execution_count": 2,
   "source": [
    "scales = pd.DataFrame({\r\n",
    "    'nominals': ['cinsiyet', 'meslek', 'duygular', 'film_isimleri'],\r\n",
    "    'ordinals': ['askeri_rutbeler', 'akademik_unvanlar', 'anket_siklari', 'yas_gruplari'],\r\n",
    "    'interval': ['sicaklik_degerleri', 'oss_puani', 'ph_degeri', 'tarihler'],\r\n",
    "    'ratio': ['yas', 'maas', 'boy', 'kilo']\r\n",
    "})\r\n",
    "\r\n",
    "scales"
   ],
   "outputs": [
    {
     "output_type": "execute_result",
     "data": {
      "text/html": [
       "<div>\n",
       "<style scoped>\n",
       "    .dataframe tbody tr th:only-of-type {\n",
       "        vertical-align: middle;\n",
       "    }\n",
       "\n",
       "    .dataframe tbody tr th {\n",
       "        vertical-align: top;\n",
       "    }\n",
       "\n",
       "    .dataframe thead th {\n",
       "        text-align: right;\n",
       "    }\n",
       "</style>\n",
       "<table border=\"1\" class=\"dataframe\">\n",
       "  <thead>\n",
       "    <tr style=\"text-align: right;\">\n",
       "      <th></th>\n",
       "      <th>nominals</th>\n",
       "      <th>ordinals</th>\n",
       "      <th>interval</th>\n",
       "      <th>ratio</th>\n",
       "    </tr>\n",
       "  </thead>\n",
       "  <tbody>\n",
       "    <tr>\n",
       "      <th>0</th>\n",
       "      <td>cinsiyet</td>\n",
       "      <td>askeri_rutbeler</td>\n",
       "      <td>sicaklik_degerleri</td>\n",
       "      <td>yas</td>\n",
       "    </tr>\n",
       "    <tr>\n",
       "      <th>1</th>\n",
       "      <td>meslek</td>\n",
       "      <td>akademik_unvanlar</td>\n",
       "      <td>oss_puani</td>\n",
       "      <td>maas</td>\n",
       "    </tr>\n",
       "    <tr>\n",
       "      <th>2</th>\n",
       "      <td>duygular</td>\n",
       "      <td>anket_siklari</td>\n",
       "      <td>ph_degeri</td>\n",
       "      <td>boy</td>\n",
       "    </tr>\n",
       "    <tr>\n",
       "      <th>3</th>\n",
       "      <td>fiml_isimleri</td>\n",
       "      <td>yas_gruplari</td>\n",
       "      <td>tarihler</td>\n",
       "      <td>kilo</td>\n",
       "    </tr>\n",
       "  </tbody>\n",
       "</table>\n",
       "</div>"
      ],
      "text/plain": [
       "        nominals           ordinals            interval ratio\n",
       "0       cinsiyet    askeri_rutbeler  sicaklik_degerleri   yas\n",
       "1         meslek  akademik_unvanlar           oss_puani  maas\n",
       "2       duygular      anket_siklari           ph_degeri   boy\n",
       "3  fiml_isimleri       yas_gruplari            tarihler  kilo"
      ]
     },
     "metadata": {},
     "execution_count": 2
    }
   ],
   "metadata": {}
  },
  {
   "cell_type": "markdown",
   "source": [
    "## 2 - Ekli data üzerindeki aşağıda yer alan kolonların count, mean, std, min, 25%, 50%, 75%, max değerlerini ve IQR metoduyla outlier kalan veri sayısını çıkartıp, bu değerleri sözel ve karşılaştırmalı olarak yorumlayalım. \r\n",
    "\r\n",
    "* Kolonlar : radius_mean, area_mean, compactness_mean"
   ],
   "metadata": {}
  },
  {
   "cell_type": "code",
   "execution_count": 3,
   "source": [
    "dataset = pd.read_csv('data.csv')\r\n",
    "dataset.head()"
   ],
   "outputs": [
    {
     "output_type": "execute_result",
     "data": {
      "text/html": [
       "<div>\n",
       "<style scoped>\n",
       "    .dataframe tbody tr th:only-of-type {\n",
       "        vertical-align: middle;\n",
       "    }\n",
       "\n",
       "    .dataframe tbody tr th {\n",
       "        vertical-align: top;\n",
       "    }\n",
       "\n",
       "    .dataframe thead th {\n",
       "        text-align: right;\n",
       "    }\n",
       "</style>\n",
       "<table border=\"1\" class=\"dataframe\">\n",
       "  <thead>\n",
       "    <tr style=\"text-align: right;\">\n",
       "      <th></th>\n",
       "      <th>id</th>\n",
       "      <th>diagnosis</th>\n",
       "      <th>radius_mean</th>\n",
       "      <th>texture_mean</th>\n",
       "      <th>perimeter_mean</th>\n",
       "      <th>area_mean</th>\n",
       "      <th>smoothness_mean</th>\n",
       "      <th>compactness_mean</th>\n",
       "      <th>concavity_mean</th>\n",
       "      <th>concave points_mean</th>\n",
       "      <th>...</th>\n",
       "      <th>texture_worst</th>\n",
       "      <th>perimeter_worst</th>\n",
       "      <th>area_worst</th>\n",
       "      <th>smoothness_worst</th>\n",
       "      <th>compactness_worst</th>\n",
       "      <th>concavity_worst</th>\n",
       "      <th>concave points_worst</th>\n",
       "      <th>symmetry_worst</th>\n",
       "      <th>fractal_dimension_worst</th>\n",
       "      <th>Unnamed: 32</th>\n",
       "    </tr>\n",
       "  </thead>\n",
       "  <tbody>\n",
       "    <tr>\n",
       "      <th>0</th>\n",
       "      <td>842302</td>\n",
       "      <td>M</td>\n",
       "      <td>17.99</td>\n",
       "      <td>10.38</td>\n",
       "      <td>122.80</td>\n",
       "      <td>1001.0</td>\n",
       "      <td>0.11840</td>\n",
       "      <td>0.27760</td>\n",
       "      <td>0.3001</td>\n",
       "      <td>0.14710</td>\n",
       "      <td>...</td>\n",
       "      <td>17.33</td>\n",
       "      <td>184.60</td>\n",
       "      <td>2019.0</td>\n",
       "      <td>0.1622</td>\n",
       "      <td>0.6656</td>\n",
       "      <td>0.7119</td>\n",
       "      <td>0.2654</td>\n",
       "      <td>0.4601</td>\n",
       "      <td>0.11890</td>\n",
       "      <td>NaN</td>\n",
       "    </tr>\n",
       "    <tr>\n",
       "      <th>1</th>\n",
       "      <td>842517</td>\n",
       "      <td>M</td>\n",
       "      <td>20.57</td>\n",
       "      <td>17.77</td>\n",
       "      <td>132.90</td>\n",
       "      <td>1326.0</td>\n",
       "      <td>0.08474</td>\n",
       "      <td>0.07864</td>\n",
       "      <td>0.0869</td>\n",
       "      <td>0.07017</td>\n",
       "      <td>...</td>\n",
       "      <td>23.41</td>\n",
       "      <td>158.80</td>\n",
       "      <td>1956.0</td>\n",
       "      <td>0.1238</td>\n",
       "      <td>0.1866</td>\n",
       "      <td>0.2416</td>\n",
       "      <td>0.1860</td>\n",
       "      <td>0.2750</td>\n",
       "      <td>0.08902</td>\n",
       "      <td>NaN</td>\n",
       "    </tr>\n",
       "    <tr>\n",
       "      <th>2</th>\n",
       "      <td>84300903</td>\n",
       "      <td>M</td>\n",
       "      <td>19.69</td>\n",
       "      <td>21.25</td>\n",
       "      <td>130.00</td>\n",
       "      <td>1203.0</td>\n",
       "      <td>0.10960</td>\n",
       "      <td>0.15990</td>\n",
       "      <td>0.1974</td>\n",
       "      <td>0.12790</td>\n",
       "      <td>...</td>\n",
       "      <td>25.53</td>\n",
       "      <td>152.50</td>\n",
       "      <td>1709.0</td>\n",
       "      <td>0.1444</td>\n",
       "      <td>0.4245</td>\n",
       "      <td>0.4504</td>\n",
       "      <td>0.2430</td>\n",
       "      <td>0.3613</td>\n",
       "      <td>0.08758</td>\n",
       "      <td>NaN</td>\n",
       "    </tr>\n",
       "    <tr>\n",
       "      <th>3</th>\n",
       "      <td>84348301</td>\n",
       "      <td>M</td>\n",
       "      <td>11.42</td>\n",
       "      <td>20.38</td>\n",
       "      <td>77.58</td>\n",
       "      <td>386.1</td>\n",
       "      <td>0.14250</td>\n",
       "      <td>0.28390</td>\n",
       "      <td>0.2414</td>\n",
       "      <td>0.10520</td>\n",
       "      <td>...</td>\n",
       "      <td>26.50</td>\n",
       "      <td>98.87</td>\n",
       "      <td>567.7</td>\n",
       "      <td>0.2098</td>\n",
       "      <td>0.8663</td>\n",
       "      <td>0.6869</td>\n",
       "      <td>0.2575</td>\n",
       "      <td>0.6638</td>\n",
       "      <td>0.17300</td>\n",
       "      <td>NaN</td>\n",
       "    </tr>\n",
       "    <tr>\n",
       "      <th>4</th>\n",
       "      <td>84358402</td>\n",
       "      <td>M</td>\n",
       "      <td>20.29</td>\n",
       "      <td>14.34</td>\n",
       "      <td>135.10</td>\n",
       "      <td>1297.0</td>\n",
       "      <td>0.10030</td>\n",
       "      <td>0.13280</td>\n",
       "      <td>0.1980</td>\n",
       "      <td>0.10430</td>\n",
       "      <td>...</td>\n",
       "      <td>16.67</td>\n",
       "      <td>152.20</td>\n",
       "      <td>1575.0</td>\n",
       "      <td>0.1374</td>\n",
       "      <td>0.2050</td>\n",
       "      <td>0.4000</td>\n",
       "      <td>0.1625</td>\n",
       "      <td>0.2364</td>\n",
       "      <td>0.07678</td>\n",
       "      <td>NaN</td>\n",
       "    </tr>\n",
       "  </tbody>\n",
       "</table>\n",
       "<p>5 rows × 33 columns</p>\n",
       "</div>"
      ],
      "text/plain": [
       "         id diagnosis  radius_mean  texture_mean  perimeter_mean  area_mean  \\\n",
       "0    842302         M        17.99         10.38          122.80     1001.0   \n",
       "1    842517         M        20.57         17.77          132.90     1326.0   \n",
       "2  84300903         M        19.69         21.25          130.00     1203.0   \n",
       "3  84348301         M        11.42         20.38           77.58      386.1   \n",
       "4  84358402         M        20.29         14.34          135.10     1297.0   \n",
       "\n",
       "   smoothness_mean  compactness_mean  concavity_mean  concave points_mean  \\\n",
       "0          0.11840           0.27760          0.3001              0.14710   \n",
       "1          0.08474           0.07864          0.0869              0.07017   \n",
       "2          0.10960           0.15990          0.1974              0.12790   \n",
       "3          0.14250           0.28390          0.2414              0.10520   \n",
       "4          0.10030           0.13280          0.1980              0.10430   \n",
       "\n",
       "   ...  texture_worst  perimeter_worst  area_worst  smoothness_worst  \\\n",
       "0  ...          17.33           184.60      2019.0            0.1622   \n",
       "1  ...          23.41           158.80      1956.0            0.1238   \n",
       "2  ...          25.53           152.50      1709.0            0.1444   \n",
       "3  ...          26.50            98.87       567.7            0.2098   \n",
       "4  ...          16.67           152.20      1575.0            0.1374   \n",
       "\n",
       "   compactness_worst  concavity_worst  concave points_worst  symmetry_worst  \\\n",
       "0             0.6656           0.7119                0.2654          0.4601   \n",
       "1             0.1866           0.2416                0.1860          0.2750   \n",
       "2             0.4245           0.4504                0.2430          0.3613   \n",
       "3             0.8663           0.6869                0.2575          0.6638   \n",
       "4             0.2050           0.4000                0.1625          0.2364   \n",
       "\n",
       "   fractal_dimension_worst  Unnamed: 32  \n",
       "0                  0.11890          NaN  \n",
       "1                  0.08902          NaN  \n",
       "2                  0.08758          NaN  \n",
       "3                  0.17300          NaN  \n",
       "4                  0.07678          NaN  \n",
       "\n",
       "[5 rows x 33 columns]"
      ]
     },
     "metadata": {},
     "execution_count": 3
    }
   ],
   "metadata": {}
  },
  {
   "cell_type": "code",
   "execution_count": 4,
   "source": [
    "soru2_df = dataset.copy()\r\n",
    "\r\n",
    "Kolonlar = ['radius_mean', 'area_mean', 'compactness_mean']"
   ],
   "outputs": [],
   "metadata": {}
  },
  {
   "cell_type": "code",
   "execution_count": 5,
   "source": [
    "import numpy as np\r\n",
    "def find_outlier(df, column):\r\n",
    "    q1 = df[column].quantile(0.25)\r\n",
    "    q3 = df[column].quantile(0.75)\r\n",
    "\r\n",
    "    iqr = q3 - q1\r\n",
    "\r\n",
    "    LCL = q1 - (1.5 * iqr)\r\n",
    "    UCL = q3 - (1.5 * iqr)\r\n",
    "\r\n",
    "    length = len(df)\r\n",
    "    lowers = sum(df[column] < LCL)\r\n",
    "    uppers = sum(df[column] < UCL)\r\n",
    "    if lowers > 0:\r\n",
    "        print(f'{column} degiskeninde bulunan degerlerin %{100 * np.round((lowers / length), 2)}\\'i alt limitin altinda kalarak outlier ilan edildi.')\r\n",
    "    if uppers > 0:\r\n",
    "        print(f'{column} degiskeninde bulunan degerlerin %{100 * np.round((uppers / length), 2)}\\'i alt limitin uzerinde kalarak outlier ilan edildi.')\r\n",
    "    if (lowers+uppers != 0 ):\r\n",
    "        print(f'{column} degerlerin %{100 * np.round(((length-uppers-lowers) / length), 2)} tanesi q1: {q1} ve q3: {q3} arasinda kalmistir.\\n')\r\n",
    "    else:\r\n",
    "        print(f\"{column} degiskeninde hicbir outlier bulunmamaktadir \\n\")"
   ],
   "outputs": [],
   "metadata": {}
  },
  {
   "cell_type": "markdown",
   "source": [
    "* Dro islemi icin outlier degerlerin indexlerini kaydettigim fonksiyon aslinda alttaki, usttekinin alt kumesi olmasina ragmen anlasilir olmasi icin farkli bir fonksyiton olarak yazioyrum"
   ],
   "metadata": {}
  },
  {
   "cell_type": "code",
   "execution_count": 6,
   "source": [
    "def find_outlier_indexes(df, column):\r\n",
    "    q1 = df[column].quantile(0.25)\r\n",
    "    q3 = df[column].quantile(0.75)\r\n",
    "    std_ = df[column].std()\r\n",
    "\r\n",
    "    iqr = q3 - q1\r\n",
    "\r\n",
    "    LCL = q1 - (1.5 * std_)\r\n",
    "    UCL = q3 +(1.5 * std_)\r\n",
    "\r\n",
    "    [outlier_list.append(ind) for ind in df[column][(df[column] < LCL) | (df[column] > UCL)].index]\r\n",
    "    print(len(outlier_list))\r\n",
    "    "
   ],
   "outputs": [],
   "metadata": {}
  },
  {
   "cell_type": "code",
   "execution_count": 7,
   "source": [
    "outlier_list = []\r\n",
    "for i in Kolonlar:\r\n",
    "    find_outlier(soru2_df, i)\r\n",
    "    find_outlier_indexes(soru2_df, i)\r\n",
    "\r\n",
    "outlier_list = list(set(outlier_list)) # bu islem duplicate degerleri elimine ediyor\r\n",
    "\r\n",
    "print(f'outlier orani {np.round((len(outlier_list) / len(soru2_df)), 3) * 100} %')"
   ],
   "outputs": [
    {
     "output_type": "stream",
     "name": "stdout",
     "text": [
      "radius_mean degiskeninde bulunan degerlerin %5.0'i alt limitin uzerinde kalarak outlier ilan edildi.\n",
      "radius_mean degerlerin %95.0 tanesi q1: 11.7 ve q3: 15.78 arasinda kalmistir.\n",
      "\n",
      "22\n",
      "area_mean degiskeninde bulunan degerlerin %2.0'i alt limitin uzerinde kalarak outlier ilan edildi.\n",
      "area_mean degerlerin %98.0 tanesi q1: 420.3 ve q3: 782.7 arasinda kalmistir.\n",
      "\n",
      "51\n",
      "compactness_mean degiskeninde bulunan degerlerin %1.0'i alt limitin uzerinde kalarak outlier ilan edildi.\n",
      "compactness_mean degerlerin %99.0 tanesi q1: 0.06492 ve q3: 0.1304 arasinda kalmistir.\n",
      "\n",
      "79\n",
      "outlier orani 8.799999999999999 %\n"
     ]
    }
   ],
   "metadata": {}
  },
  {
   "cell_type": "markdown",
   "source": [
    "* Outlier degerleri dusurerek yeni dataframe olusturuyorum"
   ],
   "metadata": {}
  },
  {
   "cell_type": "code",
   "execution_count": 8,
   "source": [
    "soru2_df.drop(outlier_list, axis=0).reset_index(drop=True).tail()"
   ],
   "outputs": [
    {
     "output_type": "execute_result",
     "data": {
      "text/html": [
       "<div>\n",
       "<style scoped>\n",
       "    .dataframe tbody tr th:only-of-type {\n",
       "        vertical-align: middle;\n",
       "    }\n",
       "\n",
       "    .dataframe tbody tr th {\n",
       "        vertical-align: top;\n",
       "    }\n",
       "\n",
       "    .dataframe thead th {\n",
       "        text-align: right;\n",
       "    }\n",
       "</style>\n",
       "<table border=\"1\" class=\"dataframe\">\n",
       "  <thead>\n",
       "    <tr style=\"text-align: right;\">\n",
       "      <th></th>\n",
       "      <th>id</th>\n",
       "      <th>diagnosis</th>\n",
       "      <th>radius_mean</th>\n",
       "      <th>texture_mean</th>\n",
       "      <th>perimeter_mean</th>\n",
       "      <th>area_mean</th>\n",
       "      <th>smoothness_mean</th>\n",
       "      <th>compactness_mean</th>\n",
       "      <th>concavity_mean</th>\n",
       "      <th>concave points_mean</th>\n",
       "      <th>...</th>\n",
       "      <th>texture_worst</th>\n",
       "      <th>perimeter_worst</th>\n",
       "      <th>area_worst</th>\n",
       "      <th>smoothness_worst</th>\n",
       "      <th>compactness_worst</th>\n",
       "      <th>concavity_worst</th>\n",
       "      <th>concave points_worst</th>\n",
       "      <th>symmetry_worst</th>\n",
       "      <th>fractal_dimension_worst</th>\n",
       "      <th>Unnamed: 32</th>\n",
       "    </tr>\n",
       "  </thead>\n",
       "  <tbody>\n",
       "    <tr>\n",
       "      <th>514</th>\n",
       "      <td>925311</td>\n",
       "      <td>B</td>\n",
       "      <td>11.20</td>\n",
       "      <td>29.37</td>\n",
       "      <td>70.67</td>\n",
       "      <td>386.0</td>\n",
       "      <td>0.07449</td>\n",
       "      <td>0.03558</td>\n",
       "      <td>0.00000</td>\n",
       "      <td>0.00000</td>\n",
       "      <td>...</td>\n",
       "      <td>38.30</td>\n",
       "      <td>75.19</td>\n",
       "      <td>439.6</td>\n",
       "      <td>0.09267</td>\n",
       "      <td>0.05494</td>\n",
       "      <td>0.0000</td>\n",
       "      <td>0.0000</td>\n",
       "      <td>0.1566</td>\n",
       "      <td>0.05905</td>\n",
       "      <td>NaN</td>\n",
       "    </tr>\n",
       "    <tr>\n",
       "      <th>515</th>\n",
       "      <td>925622</td>\n",
       "      <td>M</td>\n",
       "      <td>15.22</td>\n",
       "      <td>30.62</td>\n",
       "      <td>103.40</td>\n",
       "      <td>716.9</td>\n",
       "      <td>0.10480</td>\n",
       "      <td>0.20870</td>\n",
       "      <td>0.25500</td>\n",
       "      <td>0.09429</td>\n",
       "      <td>...</td>\n",
       "      <td>42.79</td>\n",
       "      <td>128.70</td>\n",
       "      <td>915.0</td>\n",
       "      <td>0.14170</td>\n",
       "      <td>0.79170</td>\n",
       "      <td>1.1700</td>\n",
       "      <td>0.2356</td>\n",
       "      <td>0.4089</td>\n",
       "      <td>0.14090</td>\n",
       "      <td>NaN</td>\n",
       "    </tr>\n",
       "    <tr>\n",
       "      <th>516</th>\n",
       "      <td>926682</td>\n",
       "      <td>M</td>\n",
       "      <td>20.13</td>\n",
       "      <td>28.25</td>\n",
       "      <td>131.20</td>\n",
       "      <td>1261.0</td>\n",
       "      <td>0.09780</td>\n",
       "      <td>0.10340</td>\n",
       "      <td>0.14400</td>\n",
       "      <td>0.09791</td>\n",
       "      <td>...</td>\n",
       "      <td>38.25</td>\n",
       "      <td>155.00</td>\n",
       "      <td>1731.0</td>\n",
       "      <td>0.11660</td>\n",
       "      <td>0.19220</td>\n",
       "      <td>0.3215</td>\n",
       "      <td>0.1628</td>\n",
       "      <td>0.2572</td>\n",
       "      <td>0.06637</td>\n",
       "      <td>NaN</td>\n",
       "    </tr>\n",
       "    <tr>\n",
       "      <th>517</th>\n",
       "      <td>926954</td>\n",
       "      <td>M</td>\n",
       "      <td>16.60</td>\n",
       "      <td>28.08</td>\n",
       "      <td>108.30</td>\n",
       "      <td>858.1</td>\n",
       "      <td>0.08455</td>\n",
       "      <td>0.10230</td>\n",
       "      <td>0.09251</td>\n",
       "      <td>0.05302</td>\n",
       "      <td>...</td>\n",
       "      <td>34.12</td>\n",
       "      <td>126.70</td>\n",
       "      <td>1124.0</td>\n",
       "      <td>0.11390</td>\n",
       "      <td>0.30940</td>\n",
       "      <td>0.3403</td>\n",
       "      <td>0.1418</td>\n",
       "      <td>0.2218</td>\n",
       "      <td>0.07820</td>\n",
       "      <td>NaN</td>\n",
       "    </tr>\n",
       "    <tr>\n",
       "      <th>518</th>\n",
       "      <td>92751</td>\n",
       "      <td>B</td>\n",
       "      <td>7.76</td>\n",
       "      <td>24.54</td>\n",
       "      <td>47.92</td>\n",
       "      <td>181.0</td>\n",
       "      <td>0.05263</td>\n",
       "      <td>0.04362</td>\n",
       "      <td>0.00000</td>\n",
       "      <td>0.00000</td>\n",
       "      <td>...</td>\n",
       "      <td>30.37</td>\n",
       "      <td>59.16</td>\n",
       "      <td>268.6</td>\n",
       "      <td>0.08996</td>\n",
       "      <td>0.06444</td>\n",
       "      <td>0.0000</td>\n",
       "      <td>0.0000</td>\n",
       "      <td>0.2871</td>\n",
       "      <td>0.07039</td>\n",
       "      <td>NaN</td>\n",
       "    </tr>\n",
       "  </tbody>\n",
       "</table>\n",
       "<p>5 rows × 33 columns</p>\n",
       "</div>"
      ],
      "text/plain": [
       "         id diagnosis  radius_mean  texture_mean  perimeter_mean  area_mean  \\\n",
       "514  925311         B        11.20         29.37           70.67      386.0   \n",
       "515  925622         M        15.22         30.62          103.40      716.9   \n",
       "516  926682         M        20.13         28.25          131.20     1261.0   \n",
       "517  926954         M        16.60         28.08          108.30      858.1   \n",
       "518   92751         B         7.76         24.54           47.92      181.0   \n",
       "\n",
       "     smoothness_mean  compactness_mean  concavity_mean  concave points_mean  \\\n",
       "514          0.07449           0.03558         0.00000              0.00000   \n",
       "515          0.10480           0.20870         0.25500              0.09429   \n",
       "516          0.09780           0.10340         0.14400              0.09791   \n",
       "517          0.08455           0.10230         0.09251              0.05302   \n",
       "518          0.05263           0.04362         0.00000              0.00000   \n",
       "\n",
       "     ...  texture_worst  perimeter_worst  area_worst  smoothness_worst  \\\n",
       "514  ...          38.30            75.19       439.6           0.09267   \n",
       "515  ...          42.79           128.70       915.0           0.14170   \n",
       "516  ...          38.25           155.00      1731.0           0.11660   \n",
       "517  ...          34.12           126.70      1124.0           0.11390   \n",
       "518  ...          30.37            59.16       268.6           0.08996   \n",
       "\n",
       "     compactness_worst  concavity_worst  concave points_worst  symmetry_worst  \\\n",
       "514            0.05494           0.0000                0.0000          0.1566   \n",
       "515            0.79170           1.1700                0.2356          0.4089   \n",
       "516            0.19220           0.3215                0.1628          0.2572   \n",
       "517            0.30940           0.3403                0.1418          0.2218   \n",
       "518            0.06444           0.0000                0.0000          0.2871   \n",
       "\n",
       "     fractal_dimension_worst  Unnamed: 32  \n",
       "514                  0.05905          NaN  \n",
       "515                  0.14090          NaN  \n",
       "516                  0.06637          NaN  \n",
       "517                  0.07820          NaN  \n",
       "518                  0.07039          NaN  \n",
       "\n",
       "[5 rows x 33 columns]"
      ]
     },
     "metadata": {},
     "execution_count": 8
    }
   ],
   "metadata": {}
  },
  {
   "cell_type": "markdown",
   "source": [
    "--------"
   ],
   "metadata": {}
  },
  {
   "cell_type": "markdown",
   "source": [
    "------"
   ],
   "metadata": {}
  },
  {
   "cell_type": "markdown",
   "source": [
    "## 3. SORU"
   ],
   "metadata": {}
  },
  {
   "cell_type": "code",
   "execution_count": 9,
   "source": [
    "soru3_df = dataset.copy()"
   ],
   "outputs": [],
   "metadata": {}
  },
  {
   "cell_type": "markdown",
   "source": [
    "Aklimda kalan kadariyla spearman rank coefficient olarak ayriyeten bir sey yoktu, hatali da olabilirim. Correaltion coefficient 2ye ayriliyor.\r\n",
    "- Eger veriseti normal dagiliyorsa Pearson correaltion coefficient kullaniliyor,\r\n",
    "- Eger veriseti normal dagilmiyorsa, nanparametrik correlation coefficient olarak Spearmani kullaniyoruz:"
   ],
   "metadata": {}
  },
  {
   "cell_type": "code",
   "execution_count": 10,
   "source": [
    "soru3_df[Kolonlar].corr(method = 'pearson')"
   ],
   "outputs": [
    {
     "output_type": "execute_result",
     "data": {
      "text/html": [
       "<div>\n",
       "<style scoped>\n",
       "    .dataframe tbody tr th:only-of-type {\n",
       "        vertical-align: middle;\n",
       "    }\n",
       "\n",
       "    .dataframe tbody tr th {\n",
       "        vertical-align: top;\n",
       "    }\n",
       "\n",
       "    .dataframe thead th {\n",
       "        text-align: right;\n",
       "    }\n",
       "</style>\n",
       "<table border=\"1\" class=\"dataframe\">\n",
       "  <thead>\n",
       "    <tr style=\"text-align: right;\">\n",
       "      <th></th>\n",
       "      <th>radius_mean</th>\n",
       "      <th>area_mean</th>\n",
       "      <th>compactness_mean</th>\n",
       "    </tr>\n",
       "  </thead>\n",
       "  <tbody>\n",
       "    <tr>\n",
       "      <th>radius_mean</th>\n",
       "      <td>1.000000</td>\n",
       "      <td>0.987357</td>\n",
       "      <td>0.506124</td>\n",
       "    </tr>\n",
       "    <tr>\n",
       "      <th>area_mean</th>\n",
       "      <td>0.987357</td>\n",
       "      <td>1.000000</td>\n",
       "      <td>0.498502</td>\n",
       "    </tr>\n",
       "    <tr>\n",
       "      <th>compactness_mean</th>\n",
       "      <td>0.506124</td>\n",
       "      <td>0.498502</td>\n",
       "      <td>1.000000</td>\n",
       "    </tr>\n",
       "  </tbody>\n",
       "</table>\n",
       "</div>"
      ],
      "text/plain": [
       "                  radius_mean  area_mean  compactness_mean\n",
       "radius_mean          1.000000   0.987357          0.506124\n",
       "area_mean            0.987357   1.000000          0.498502\n",
       "compactness_mean     0.506124   0.498502          1.000000"
      ]
     },
     "metadata": {},
     "execution_count": 10
    }
   ],
   "metadata": {}
  },
  {
   "cell_type": "code",
   "execution_count": 11,
   "source": [
    "soru3_df[Kolonlar].corr(method = 'spearman')"
   ],
   "outputs": [
    {
     "output_type": "execute_result",
     "data": {
      "text/html": [
       "<div>\n",
       "<style scoped>\n",
       "    .dataframe tbody tr th:only-of-type {\n",
       "        vertical-align: middle;\n",
       "    }\n",
       "\n",
       "    .dataframe tbody tr th {\n",
       "        vertical-align: top;\n",
       "    }\n",
       "\n",
       "    .dataframe thead th {\n",
       "        text-align: right;\n",
       "    }\n",
       "</style>\n",
       "<table border=\"1\" class=\"dataframe\">\n",
       "  <thead>\n",
       "    <tr style=\"text-align: right;\">\n",
       "      <th></th>\n",
       "      <th>radius_mean</th>\n",
       "      <th>area_mean</th>\n",
       "      <th>compactness_mean</th>\n",
       "    </tr>\n",
       "  </thead>\n",
       "  <tbody>\n",
       "    <tr>\n",
       "      <th>radius_mean</th>\n",
       "      <td>1.000000</td>\n",
       "      <td>0.999602</td>\n",
       "      <td>0.497578</td>\n",
       "    </tr>\n",
       "    <tr>\n",
       "      <th>area_mean</th>\n",
       "      <td>0.999602</td>\n",
       "      <td>1.000000</td>\n",
       "      <td>0.488988</td>\n",
       "    </tr>\n",
       "    <tr>\n",
       "      <th>compactness_mean</th>\n",
       "      <td>0.497578</td>\n",
       "      <td>0.488988</td>\n",
       "      <td>1.000000</td>\n",
       "    </tr>\n",
       "  </tbody>\n",
       "</table>\n",
       "</div>"
      ],
      "text/plain": [
       "                  radius_mean  area_mean  compactness_mean\n",
       "radius_mean          1.000000   0.999602          0.497578\n",
       "area_mean            0.999602   1.000000          0.488988\n",
       "compactness_mean     0.497578   0.488988          1.000000"
      ]
     },
     "metadata": {},
     "execution_count": 11
    }
   ],
   "metadata": {}
  },
  {
   "cell_type": "code",
   "execution_count": 12,
   "source": [
    "soru3_df[Kolonlar].cov()"
   ],
   "outputs": [
    {
     "output_type": "execute_result",
     "data": {
      "text/html": [
       "<div>\n",
       "<style scoped>\n",
       "    .dataframe tbody tr th:only-of-type {\n",
       "        vertical-align: middle;\n",
       "    }\n",
       "\n",
       "    .dataframe tbody tr th {\n",
       "        vertical-align: top;\n",
       "    }\n",
       "\n",
       "    .dataframe thead th {\n",
       "        text-align: right;\n",
       "    }\n",
       "</style>\n",
       "<table border=\"1\" class=\"dataframe\">\n",
       "  <thead>\n",
       "    <tr style=\"text-align: right;\">\n",
       "      <th></th>\n",
       "      <th>radius_mean</th>\n",
       "      <th>area_mean</th>\n",
       "      <th>compactness_mean</th>\n",
       "    </tr>\n",
       "  </thead>\n",
       "  <tbody>\n",
       "    <tr>\n",
       "      <th>radius_mean</th>\n",
       "      <td>12.418920</td>\n",
       "      <td>1224.483409</td>\n",
       "      <td>0.094197</td>\n",
       "    </tr>\n",
       "    <tr>\n",
       "      <th>area_mean</th>\n",
       "      <td>1224.483409</td>\n",
       "      <td>123843.554318</td>\n",
       "      <td>9.264931</td>\n",
       "    </tr>\n",
       "    <tr>\n",
       "      <th>compactness_mean</th>\n",
       "      <td>0.094197</td>\n",
       "      <td>9.264931</td>\n",
       "      <td>0.002789</td>\n",
       "    </tr>\n",
       "  </tbody>\n",
       "</table>\n",
       "</div>"
      ],
      "text/plain": [
       "                  radius_mean      area_mean  compactness_mean\n",
       "radius_mean         12.418920    1224.483409          0.094197\n",
       "area_mean         1224.483409  123843.554318          9.264931\n",
       "compactness_mean     0.094197       9.264931          0.002789"
      ]
     },
     "metadata": {},
     "execution_count": 12
    }
   ],
   "metadata": {}
  },
  {
   "cell_type": "code",
   "execution_count": 13,
   "source": [
    "soru3_df[Kolonlar].var()"
   ],
   "outputs": [
    {
     "output_type": "execute_result",
     "data": {
      "text/plain": [
       "radius_mean             12.418920\n",
       "area_mean           123843.554318\n",
       "compactness_mean         0.002789\n",
       "dtype: float64"
      ]
     },
     "metadata": {},
     "execution_count": 13
    }
   ],
   "metadata": {}
  },
  {
   "cell_type": "markdown",
   "source": [
    "* Etki buyuklugu deyince aklima ilk gelen cohens d katsayisi. Lisans bitirme projem Meta Analizi'ydi. Cohens d etki buyuklugu standardlastirilmis  2 orneklem ortalamasi farki (standardized mean difference) icin kullaniliyor. Varsayimi gruplar birbirinden bagimsiz. Formulasyonunda 2 grup ortalamasi farki 2 grubun havuzlanmis varyansina bolunuyor.\r\n",
    "* Bunun icin verisetimdeki degiskenleri (konsepte uydurmak icin) 2 rastgele parcaya ayirip bunlar 2 farkli grupmus gibi hareket edicem ve etki buyukluklerini hesaplayacagim:"
   ],
   "metadata": {}
  },
  {
   "cell_type": "code",
   "execution_count": 14,
   "source": [
    "# cohen's d (2 bagimsiz gruptan olusan calismalar icin onerilen formulasyon ile) hesapliyorum. cohen's d aslinda standartlastirilmis degerler uzerinden hesaplaniyor diye biliyorum\r\n",
    "# fakat formati gostermek genel amacim oldugu icin standartlastirma islemini atliyorum\r\n",
    "\r\n",
    "def pooled_ss(df):\r\n",
    "    if (len(df) % 2) != 0:\r\n",
    "        df = df.iloc[:-1,:] # tam olarak 2 ye bolunebilsin diye\r\n",
    "\r\n",
    "    half_of_the_length = int(len(df)/2)\r\n",
    "\r\n",
    "    group1 = df.iloc[:half_of_the_length, :]\r\n",
    "    group2 = df.iloc[half_of_the_length:, :]\r\n",
    "    for i in Kolonlar:\r\n",
    "        s1 = group1[i].std()\r\n",
    "        s2 = group2[i].std()\r\n",
    "        n_both = len(df) / 2\r\n",
    "\r\n",
    "        s_pooled = (((n_both - 1) * (s1 ** 2)) + ((n_both - 1) * (s2 ** 2))) / (n_both + n_both - 2)\r\n",
    "        mu1 = group1[i].mean()\r\n",
    "        mu2 = group2[i].mean()\r\n",
    "\r\n",
    "        print(f'{i}\\'ilk yarisi 1. grup son yarisi 2. grup kabul edilerek etki buyuklugu: ',(mu1-mu2) / s_pooled, '\\n')"
   ],
   "outputs": [],
   "metadata": {}
  },
  {
   "cell_type": "code",
   "execution_count": 15,
   "source": [
    "pooled_ss(soru3_df[Kolonlar])"
   ],
   "outputs": [
    {
     "output_type": "stream",
     "name": "stdout",
     "text": [
      "radius_mean'ilk yarisi 1. grup son yarisi 2. grup kabul edilerek etki buyuklugu:  0.06713844492288062 \n",
      "\n",
      "area_mean'ilk yarisi 1. grup son yarisi 2. grup kabul edilerek etki buyuklugu:  0.0006341241839791753 \n",
      "\n",
      "compactness_mean'ilk yarisi 1. grup son yarisi 2. grup kabul edilerek etki buyuklugu:  6.128247587152081 \n",
      "\n"
     ]
    }
   ],
   "metadata": {}
  },
  {
   "cell_type": "markdown",
   "source": [
    "----"
   ],
   "metadata": {}
  },
  {
   "cell_type": "markdown",
   "source": [
    "------"
   ],
   "metadata": {}
  },
  {
   "cell_type": "markdown",
   "source": [
    "# SORU 4"
   ],
   "metadata": {}
  },
  {
   "cell_type": "markdown",
   "source": [
    "#### 4-1\r\n",
    "- Senaryomuz su sekilde:\r\n",
    "  - Ben her gun firina simit almaya giderim. Fakat haftanin 2 gunu simit kalmamis olur firinda.\r\n",
    "  - Ve haftanin 1 gunu de yanima para almayi unutmus olurum.\r\n",
    "  - Simidin kalmadigini gordugumde yanimda paranin da olmadigini ise orani %7\r\n",
    "    - O halde parami evde unuttugum bir gunde, firina gittigimde simidin kalmamis oldugunu gorme olasiligim nedir?\r\n",
    "\r\n",
    "\r\n",
    "Elimde ne var? \r\n",
    "- simit kalmama olasiligi P(sk) = 2/7 = 0.286\r\n",
    "- yanimda para olmamasi olasiligi P(ypo) = 1/7 = 0.143\r\n",
    "- simit olmadigi bilindiginde paranin da olmamasi P( ypo | sk )= 0.07\r\n",
    "\r\n",
    "O halde P(sk | ypo)'i bulmak icin bayes teoremini uyguluyoruz:"
   ],
   "metadata": {}
  },
  {
   "cell_type": "code",
   "execution_count": 16,
   "source": [
    "def calculate_wBayes(pa, pb, b_given_a):\r\n",
    "    \"\"\"P(A|B) = P(B|A) * p(A) / P(B) \"\"\"\r\n",
    "    a_given_b = b_given_a * pa / pb\r\n",
    "    return a_given_b"
   ],
   "outputs": [],
   "metadata": {}
  },
  {
   "cell_type": "code",
   "execution_count": 17,
   "source": [
    "sk = 0.256\r\n",
    "ypo = 0.143\r\n",
    "ypo_given_sk = 0.07\r\n",
    "\r\n",
    "calculate_wBayes(pa=sk, pb=ypo, b_given_a = ypo_given_sk)"
   ],
   "outputs": [
    {
     "output_type": "execute_result",
     "data": {
      "text/plain": [
       "0.12531468531468534"
      ]
     },
     "metadata": {},
     "execution_count": 17
    }
   ],
   "metadata": {}
  },
  {
   "cell_type": "markdown",
   "source": [
    "#### 4-2\r\n",
    "\r\n",
    "* Bir gun icinde yururken dusme olasiligim: 0.05\r\n",
    "* Ayakkabimi ters giyme olasiligim: 0.2\r\n",
    "* O gun dustugum bilindiginde ayakkabilarimin ters olma olasiligi: 0.05\r\n",
    "\r\n",
    "* Evden cikarken ayakkabilarim isem o gun dusme olasiligim?\r\n"
   ],
   "metadata": {}
  },
  {
   "cell_type": "code",
   "execution_count": 18,
   "source": [
    "\r\n",
    "p_dusme = 0.05\r\n",
    "p_ayakkabilar_ters = 0.2\r\n",
    "p_ayakkabilar_ters_GIVEN_dustum = 0.05\r\n",
    "\r\n",
    "calculate_wBayes(p_dusme, p_ayakkabilar_ters, p_ayakkabilar_ters_GIVEN_dustum)"
   ],
   "outputs": [
    {
     "output_type": "execute_result",
     "data": {
      "text/plain": [
       "0.012500000000000002"
      ]
     },
     "metadata": {},
     "execution_count": 18
    }
   ],
   "metadata": {}
  },
  {
   "cell_type": "markdown",
   "source": [
    "#### 4-3\r\n",
    "\r\n",
    "* Gun sonunda telefonumun sarji bitme olasiligi: 0.25\r\n",
    "* Anahtarimi unutma olasiligi: 0.10\r\n",
    "* Kapida kaldigimda telefonumun sarjinin da bitmis oldugunu gorme olasiligim: 0.15\r\n",
    "\r\n",
    "* Gun sonunda sarjimin bittigi bir gunde kapida kalma olasiligim?"
   ],
   "metadata": {}
  },
  {
   "cell_type": "code",
   "execution_count": 19,
   "source": [
    "p_anahtari_unutma = 0.10\r\n",
    "p_sarj_bitmesi = 0.25\r\n",
    "p_sarj_bitme_GIVEN_anahtariunutma = 0.15\r\n",
    "\r\n",
    "calculate_wBayes(p_anahtari_unutma, p_sarj_bitmesi, p_sarj_bitme_GIVEN_anahtariunutma)"
   ],
   "outputs": [
    {
     "output_type": "execute_result",
     "data": {
      "text/plain": [
       "0.06"
      ]
     },
     "metadata": {},
     "execution_count": 19
    }
   ],
   "metadata": {}
  },
  {
   "cell_type": "markdown",
   "source": [
    "#### 4-4\r\n",
    "\r\n",
    "* Sofradaki cesitlerin birinin pilav olma olasiligi: 0.10\r\n",
    "* Masada karabiber olmasi olasiligi ise: 0.6\r\n",
    "* Masada karabiber varken pilavin menude cikmasi olasiligi: 0.30\r\n",
    "\r\n",
    "* Pilavin oldugu bir gun karabiberin masada olmamasi olasiligi nedir?"
   ],
   "metadata": {}
  },
  {
   "cell_type": "code",
   "execution_count": 20,
   "source": [
    "p_pilav = 0.10\r\n",
    "p_karabiber = 0.60\r\n",
    "p_pilav_given_karabiber = 0.15\r\n",
    "\r\n",
    "calculate_wBayes(p_karabiber, p_pilav, p_pilav_given_karabiber)"
   ],
   "outputs": [
    {
     "output_type": "execute_result",
     "data": {
      "text/plain": [
       "0.8999999999999999"
      ]
     },
     "metadata": {},
     "execution_count": 20
    }
   ],
   "metadata": {}
  },
  {
   "cell_type": "markdown",
   "source": [
    "#### 4-5\r\n",
    "\r\n",
    "* Gunes gozlugumu yanima alma olasiligim: 0.50\r\n",
    "* Havanin gunesli olma olasiligi: 0.3\r\n",
    "* Hava gunesli iken gunes gozlugumun yanimda olmasi olasili: 0.70\r\n",
    "\r\n",
    "* Gunes gozlugum yanimda iken havanin gunesli olma olasiligi nedir?"
   ],
   "metadata": {}
  },
  {
   "cell_type": "code",
   "execution_count": 21,
   "source": [
    "p_gg = 0.50\r\n",
    "p_gunesli = 0.30\r\n",
    "p_gg_given_gunesli = 0.15\r\n",
    "\r\n",
    "calculate_wBayes(p_gunesli, p_gg, p_gg_given_gunesli)"
   ],
   "outputs": [
    {
     "output_type": "execute_result",
     "data": {
      "text/plain": [
       "0.09"
      ]
     },
     "metadata": {},
     "execution_count": 21
    }
   ],
   "metadata": {}
  },
  {
   "cell_type": "markdown",
   "source": [
    "#### 4-5\r\n",
    "\r\n",
    "* Kola icmek istemem: 0.3\r\n",
    "* Dolapta kola kalmamasi: 0.1\r\n",
    "* Dolapta kola kalmadigi bilindiginde kola icmek istemem: 0.05\r\n",
    "\r\n",
    "* Kola icmek istedigimde dolapta kola kalmamis olmasi olasiligi nedir?"
   ],
   "metadata": {}
  },
  {
   "cell_type": "code",
   "execution_count": 22,
   "source": [
    "p_kola = 0.3\r\n",
    "p_dolaptayok = 0.1\r\n",
    "p_kola_given_dolaptayok = 0.05\r\n",
    "\r\n",
    "calculate_wBayes(p_dolaptayok, p_kola, p_kola_given_dolaptayok)"
   ],
   "outputs": [
    {
     "output_type": "execute_result",
     "data": {
      "text/plain": [
       "0.01666666666666667"
      ]
     },
     "metadata": {},
     "execution_count": 22
    }
   ],
   "metadata": {}
  },
  {
   "cell_type": "markdown",
   "source": [
    "## 5. Soru"
   ],
   "metadata": {}
  },
  {
   "cell_type": "markdown",
   "source": [
    "* Poisson, Normal , Gamma, Weilbull ve Logaritmik dağılımların benzer ve farklı yönlerini bir tablo halinde çıkarma"
   ],
   "metadata": {}
  },
  {
   "cell_type": "markdown",
   "source": [
    "Poisson: (Nadir) Olaylarin belirli bir sure icerisinde gerceklesme/meydana gelme sayisinin olasilik dagilimi\r\n",
    "Weibull: Olay meydana gelene kadar gecen surenin dagilimidir\r\n",
    "Gamma: Olaylar arasindaki gecen sure/ bekleme surelerinin dagilimidir.\r\n",
    "Logaritmik: Logaritmasi alinmis degerlerinin dagilimi normal olan degiskenlerin dagilimidir.\r\n",
    "Normal: Gunluk hayattatimizda karsilastigimiz olculerin dagilimidir (kilolar, boylar, gunden gune tukettigimiz su miktari, etc)\r\n",
    "\r\n",
    "- Weibull dagilimi k=1 iken ustel dagilir.\r\n",
    "  - Ustel dagilim poisson dagiliminin 1/lambda ile gecisi saglanabilir\r\n",
    "  - Bir olaye gerceklesinceye kadar gecen sure de ustel dagilimdir.\r\n",
    "  - Yani Weibull'dan ustele, ustelden possion dagilimina gecis vardir. (parametre donusumleri)\r\n",
    "\r\n",
    "- Poisson dagiliminin ortalamasi ve varyansi lambdaya esittir. Poisson dagilan bir X, X~N(lambda, kok(lambda))\r\n"
   ],
   "metadata": {}
  },
  {
   "cell_type": "code",
   "execution_count": 23,
   "source": [
    "from skimage import io\r\n",
    "import matplotlib.pyplot as plt\r\n",
    "\r\n",
    "plt.figure(figsize = (15, 15))\r\n",
    "\r\n",
    "table = \"https://user-images.githubusercontent.com/70684994/136443950-dcd8fae9-dcb2-4544-b8cb-94bc9da3fe14.png\"\r\n",
    "\r\n",
    "img = io.imread(table)\r\n",
    "\r\n",
    "plt.imshow(img)"
   ],
   "outputs": [
    {
     "output_type": "execute_result",
     "data": {
      "text/plain": [
       "<matplotlib.image.AxesImage at 0x28c01f0c248>"
      ]
     },
     "metadata": {},
     "execution_count": 23
    },
    {
     "output_type": "display_data",
     "data": {
      "image/png": "[encoded data removed]",
      "text/plain": [
       "<Figure size 1080x1080 with 1 Axes>"
      ]
     },
     "metadata": {
      "needs_background": "light"
     }
    }
   ],
   "metadata": {}
  },
  {
   "cell_type": "code",
   "execution_count": null,
   "source": [],
   "outputs": [],
   "metadata": {}
  },
  {
   "cell_type": "code",
   "execution_count": null,
   "source": [],
   "outputs": [],
   "metadata": {}
  },
  {
   "cell_type": "code",
   "execution_count": null,
   "source": [],
   "outputs": [],
   "metadata": {}
  }
 ],
 "metadata": {
  "orig_nbformat": 4,
  "language_info": {
   "name": "python",
   "version": "3.7.6",
   "mimetype": "text/x-python",
   "codemirror_mode": {
    "name": "ipython",
    "version": 3
   },
   "pygments_lexer": "ipython3",
   "nbconvert_exporter": "python",
   "file_extension": ".py"
  },
  "kernelspec": {
   "name": "python3",
   "display_name": "Python 3.7.6 64-bit"
  },
  "interpreter": {
   "hash": "4800c9a39adaa0c8765317c41af873c7b6ed4d2670d38dacbf28f56f976237f1"
  }
 },
 "nbformat": 4,
 "nbformat_minor": 2
}